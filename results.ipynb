{
 "cells": [
  {
   "cell_type": "markdown",
   "metadata": {},
   "source": [
    "# Quantum state tomography"
   ]
  },
  {
   "cell_type": "code",
   "execution_count": 1,
   "metadata": {},
   "outputs": [],
   "source": [
    "import numpy as np\n",
    "import qiskit.quantum_info as qi\n",
    "import qiskit.circuit as qc\n",
    "import qiskit_aer as aer\n",
    "import qiskit_aer.noise as noise\n",
    "from qiskit_ibm_runtime import QiskitRuntimeService\n",
    "import itertools as it\n",
    "from tqdm import tqdm\n",
    "\n",
    "\n",
    "import matplotlib.pyplot as plt\n",
    "import scipy as sy\n",
    "from qiskit.visualization import plot_histogram\n",
    "\n",
    "from math import sqrt, log\n",
    "\n"
   ]
  },
  {
   "cell_type": "code",
   "execution_count": 2,
   "metadata": {},
   "outputs": [],
   "source": [
    "from src.qu_utils import *\n",
    "from src.py_utils import *\n",
    "from src.ML_utils import *\n",
    "from src.circuit_logic import *\n",
    "from src.tomography import *\n",
    "from src.classical_shadows import *\n",
    "\n",
    "\n",
    "np.random.seed(42)"
   ]
  },
  {
   "cell_type": "code",
   "execution_count": 21,
   "metadata": {},
   "outputs": [
    {
     "name": "stderr",
     "output_type": "stream",
     "text": [
      "100%|██████████| 63/63 [00:19<00:00,  3.19it/s]\n"
     ]
    },
    {
     "data": {
      "text/plain": [
       "0.8595902105781424"
      ]
     },
     "execution_count": 21,
     "metadata": {},
     "output_type": "execute_result"
    }
   ],
   "source": [
    "n = 3\n",
    "rhotilde = multi_qubits_lin_tomography(n, nshots=100000, noise=True, valid=False)\n",
    "qi.state_fidelity(rhotilde, theoritical_GHZ(n), validate=False)"
   ]
  },
  {
   "cell_type": "code",
   "execution_count": null,
   "metadata": {},
   "outputs": [],
   "source": [
    "\n",
    "backends = ['ibm_brisbane', 'ibm_sherbrooke', 'ibm_kyiv']\n",
    "\n",
    "noisy_QASM_Brisbane = get_noisy_QASM('ibm_brisbane')\n",
    "noisy_QASM_Sherbrooke = get_noisy_QASM('ibm_sherbrooke')\n",
    "noisy_QASM_Kyiv = get_noisy_QASM('ibm_kyiv')\n",
    "QASM_simu = aer.QasmSimulator()\n",
    "\n",
    "# nshots = np.arange(100, 30001, 100)\n",
    "# nshots = np.arange(1000, 20000, 2000)\n",
    "# nshots = np.concatenate((np.arange(100, 3000, 300), np.arange(5000, 100000, 5000)))\n",
    "nshots = np.arange(1, 101, 20)\n",
    "for i in [6]:    \n",
    "    fidelities = []\n",
    "    noisy_fidelities_Brisbane = []    \n",
    "    noisy_fidelities_Sherbrooke = []    \n",
    "    noisy_fidelities_Kyiv = []    \n",
    "    for j in tqdm(nshots):\n",
    "        GHZ = theoritical_GHZ(i)\n",
    "        \n",
    "        rhotilde = multi_qubits_lin_tomography(i, nshots=j, simulator=QASM_simu, verbose=False)\n",
    "        fidelities.append(qi.state_fidelity(rhotilde, GHZ, validate=False))\n",
    "\n",
    "        noisy_rhotilde_Brisbane = multi_qubits_lin_tomography(i, nshots=j, simulator=noisy_QASM_Brisbane, verbose=False)\n",
    "        noisy_fidelities_Brisbane.append(qi.state_fidelity(noisy_rhotilde_Brisbane, GHZ, validate=False))\n",
    "\n",
    "        noisy_rhotilde_Sherbrooke = multi_qubits_lin_tomography(i, nshots=j, simulator=noisy_QASM_Sherbrooke, verbose=False)\n",
    "        noisy_fidelities_Sherbrooke.append(qi.state_fidelity(noisy_rhotilde_Sherbrooke, GHZ, validate=False))\n",
    "        # noisy_fidelities_Sherbrooke.append(0)\n",
    "\n",
    "        noisy_rhotilde_Kyiv = multi_qubits_lin_tomography(i, nshots=j, simulator=noisy_QASM_Kyiv, verbose=False)\n",
    "        noisy_fidelities_Kyiv.append(qi.state_fidelity(noisy_rhotilde_Kyiv, GHZ, validate=False))\n",
    "        # noisy_fidelities_Kyiv.append(0)\n",
    "    \n",
    "    with open(f'data/fidelities_n={i}_range={int(nshots[0])}_{int(nshots[1]-nshots[0])}_{int(nshots[-1])}_log.dat', 'w') as f:\n",
    "        np.savetxt(f, np.column_stack((nshots, fidelities, noisy_fidelities_Brisbane, noisy_fidelities_Sherbrooke, noisy_fidelities_Kyiv)))\n",
    "\n"
   ]
  },
  {
   "cell_type": "markdown",
   "metadata": {},
   "source": [
    "# Classical shadows"
   ]
  },
  {
   "cell_type": "code",
   "execution_count": 4,
   "metadata": {},
   "outputs": [
    {
     "name": "stderr",
     "output_type": "stream",
     "text": [
      "100%|██████████| 1000/1000 [00:02<00:00, 448.64it/s]\n"
     ]
    }
   ],
   "source": [
    "n = 5\n",
    "test = classical_shadow_clifford(n, 1000, noise=False)\n",
    "# print(test)\n",
    "# median_of_means_fidelity_efficient(test, 10)"
   ]
  },
  {
   "cell_type": "code",
   "execution_count": 5,
   "metadata": {},
   "outputs": [
    {
     "data": {
      "text/plain": [
       "0.9501856435643565"
      ]
     },
     "execution_count": 5,
     "metadata": {},
     "output_type": "execute_result"
    }
   ],
   "source": [
    "median_of_means_fidelity(test, 10)"
   ]
  },
  {
   "cell_type": "code",
   "execution_count": 5,
   "metadata": {},
   "outputs": [],
   "source": [
    "noisy_QASM_Brisbane = get_noisy_QASM('ibm_brisbane')\n",
    "QASM_simu = aer.QasmSimulator()"
   ]
  },
  {
   "cell_type": "code",
   "execution_count": 16,
   "metadata": {},
   "outputs": [
    {
     "name": "stderr",
     "output_type": "stream",
     "text": [
      "  0%|          | 0/2 [00:00<?, ?it/s]"
     ]
    },
    {
     "name": "stdout",
     "output_type": "stream",
     "text": [
      "4 8000\n"
     ]
    },
    {
     "name": "stderr",
     "output_type": "stream",
     "text": [
      "100%|██████████| 8000/8000 [00:12<00:00, 627.26it/s]\n"
     ]
    },
    {
     "name": "stdout",
     "output_type": "stream",
     "text": [
      "data/fidelities_n=4_N=8000_QASM_bis.dat saved\n"
     ]
    },
    {
     "name": "stderr",
     "output_type": "stream",
     "text": [
      "100%|██████████| 8000/8000 [1:30:32<00:00,  1.47it/s]\n",
      " 50%|█████     | 1/2 [1:31:09<1:31:09, 5469.35s/it]"
     ]
    },
    {
     "name": "stdout",
     "output_type": "stream",
     "text": [
      "data/fidelities_n=4_N=8000_Br_bis.dat saved\n",
      "6 8000\n"
     ]
    },
    {
     "name": "stderr",
     "output_type": "stream",
     "text": [
      "100%|██████████| 8000/8000 [00:15<00:00, 512.27it/s]\n"
     ]
    },
    {
     "name": "stdout",
     "output_type": "stream",
     "text": [
      "data/fidelities_n=6_N=8000_QASM_bis.dat saved\n"
     ]
    },
    {
     "name": "stderr",
     "output_type": "stream",
     "text": [
      "100%|██████████| 8000/8000 [1:25:06<00:00,  1.57it/s]\n",
      "100%|██████████| 2/2 [2:57:26<00:00, 5323.14s/it]  "
     ]
    },
    {
     "name": "stdout",
     "output_type": "stream",
     "text": [
      "data/fidelities_n=6_N=8000_Br_bis.dat saved\n"
     ]
    },
    {
     "name": "stderr",
     "output_type": "stream",
     "text": [
      "\n"
     ]
    }
   ],
   "source": [
    "# ns = np.concatenate((np.arange(3, 16), np.arange(20, 101, 20)))\n",
    "ns = [4, 6]\n",
    "N = 8000\n",
    "for n in tqdm(ns):\n",
    "    print(n, N)\n",
    "    def filename(simu):\n",
    "        return f'data/fidelities_n={n}_N={N}_{simu}_bis.dat'\n",
    "    \n",
    "    fidelities = []\n",
    "    noisy_fidelities_Brisbane = []    \n",
    "    noisy_fidelities_Sherbrooke = []    \n",
    "    noisy_fidelities_Kyiv = []   \n",
    "\n",
    "    shadows = classical_shadow_clifford(n, N, simulator=QASM_simu)\n",
    "    fidelities.append(shadows)\n",
    "\n",
    "    fn = filename('QASM')\n",
    "    with open(fn, 'w') as f:\n",
    "        np.savetxt(f, fidelities)\n",
    "    print(f'{fn} saved')\n",
    "\n",
    "    noisy_shadows_Brisbane = classical_shadow_clifford(n, N, simulator=noisy_QASM_Brisbane)\n",
    "    noisy_fidelities_Brisbane.append(noisy_shadows_Brisbane)\n",
    "\n",
    "    fn = filename('Br')\n",
    "    with open(fn, 'w') as f:\n",
    "        np.savetxt(f, noisy_fidelities_Brisbane)\n",
    "    print(f'{fn} saved')\n",
    "\n",
    "    # noisy_shadows_Sherbrooke = classical_shadow_bis_efficient(n, N, simulator=noisy_QASM_Sherbrooke)\n",
    "    # noisy_fidelities_Sherbrooke.append(noisy_shadows_Sherbrooke)\n",
    "\n",
    "    # noisy_shadows_Kyiv = classical_shadow_bis_efficient(n, N, simulator=noisy_QASM_Kyiv)\n",
    "    # noisy_fidelities_Kyiv.append(noisy_shadows_Kyiv)\n",
    "\n",
    "    \n"
   ]
  },
  {
   "cell_type": "markdown",
   "metadata": {},
   "source": [
    "# Comparison times"
   ]
  },
  {
   "cell_type": "code",
   "execution_count": 14,
   "metadata": {},
   "outputs": [
    {
     "name": "stderr",
     "output_type": "stream",
     "text": [
      "100%|██████████| 15/15 [00:00<00:00, 401.11it/s]\n",
      "100%|██████████| 5000/5000 [00:10<00:00, 463.94it/s]\n",
      "100%|██████████| 63/63 [00:00<00:00, 366.00it/s]\n",
      "100%|██████████| 5000/5000 [00:11<00:00, 422.44it/s]\n",
      "100%|██████████| 255/255 [00:01<00:00, 206.59it/s]\n",
      "100%|██████████| 5000/5000 [00:13<00:00, 363.29it/s]\n",
      "100%|██████████| 1023/1023 [00:02<00:00, 372.18it/s]\n",
      "100%|██████████| 5000/5000 [00:16<00:00, 310.91it/s]\n",
      "100%|██████████| 4095/4095 [00:10<00:00, 401.96it/s] \n",
      "100%|██████████| 5000/5000 [00:18<00:00, 272.51it/s]\n",
      "100%|██████████| 16383/16383 [00:32<00:00, 505.38it/s] \n",
      "100%|██████████| 5000/5000 [00:20<00:00, 240.13it/s]\n",
      "100%|██████████| 5000/5000 [00:21<00:00, 233.93it/s]\n",
      "100%|██████████| 5000/5000 [00:22<00:00, 225.34it/s]\n",
      "100%|██████████| 5000/5000 [00:24<00:00, 205.16it/s]\n",
      "100%|██████████| 5000/5000 [00:26<00:00, 188.01it/s]\n"
     ]
    }
   ],
   "source": [
    "import time\n",
    "import json\n",
    "QASM_simu = aer.QasmSimulator()\n",
    "\n",
    "N = 5000\n",
    "K = 20\n",
    "nshots = 5000\n",
    "\n",
    "nqubits = np.arange(2, 12)\n",
    "time_meas_tomo = {}\n",
    "time_meas_clsh = {}\n",
    "time_tot_tomo = {}\n",
    "time_tot_clsh = {}\n",
    "fidelities_tomo = {}\n",
    "fidelities_clsh = {}\n",
    "for n in nqubits:\n",
    "    GHZ = theoritical_GHZ(n)\n",
    "    \n",
    "    if n<8:\n",
    "        start_tomo = time.time()\n",
    "        rhotilde = multi_qubits_lin_tomography(n, nshots=nshots, simulator=QASM_simu, verbose=True, valid=False)\n",
    "        end_meas_tomo = time.time()\n",
    "        fidelities_tomo[n] = qi.state_fidelity(make_it_semi_positive_definite(rhotilde), GHZ, validate=False)\n",
    "        end_tot_tomo = time.time()\n",
    "\n",
    "        time_meas_tomo[n] = end_meas_tomo-start_tomo\n",
    "        time_tot_tomo[n] = end_tot_tomo-start_tomo\n",
    " \n",
    "    start_clsh = time.time()\n",
    "    shadows = classical_shadow_clifford(n, N, simulator=QASM_simu)\n",
    "    end_meas_clsh = time.time()\n",
    "    fidelities_clsh[n] = median_of_means_fidelity(shadows, K)\n",
    "    end_tot_clsh = time.time()\n",
    "\n",
    "    time_meas_clsh[n] = end_meas_clsh-start_clsh\n",
    "    time_tot_clsh[n] = end_tot_clsh-start_clsh\n",
    "\n",
    "all_ = [time_meas_tomo, time_meas_clsh, time_tot_tomo, time_tot_clsh, fidelities_tomo, fidelities_clsh]\n",
    "all_fn = ['time_meas_tomo', 'time_meas_clsh', 'time_tot_tomo', 'time_tot_clsh', 'fidelities_tomo', 'fidelities_clsh']\n",
    "\n",
    "for el, name in zip(all_, all_fn):\n",
    "    el = {int(key): val for key, val in el.items()}\n",
    "    with open(f'data/{name}_{min(nqubits)}_{max(nqubits)}.json', 'w') as f:\n",
    "        json.dump(el, f)"
   ]
  },
  {
   "cell_type": "code",
   "execution_count": 15,
   "metadata": {},
   "outputs": [
    {
     "data": {
      "text/plain": [
       "{2: 0.9998122418273199,\n",
       " 3: 0.9997234061397644,\n",
       " 4: 0.9993609240210479,\n",
       " 5: 0.9988543548039955,\n",
       " 6: 0.9550484383473021,\n",
       " 7: 0.7882850490763451}"
      ]
     },
     "execution_count": 15,
     "metadata": {},
     "output_type": "execute_result"
    }
   ],
   "source": [
    "fidelities_tomo"
   ]
  },
  {
   "cell_type": "code",
   "execution_count": 16,
   "metadata": {},
   "outputs": [
    {
     "data": {
      "text/plain": [
       "{2: 0.04448127746582031,\n",
       " 3: 0.21547317504882812,\n",
       " 4: 1.5438697338104248,\n",
       " 5: 3.5095362663269043,\n",
       " 6: 14.613617658615112,\n",
       " 7: 55.96587657928467}"
      ]
     },
     "execution_count": 16,
     "metadata": {},
     "output_type": "execute_result"
    }
   ],
   "source": [
    "time_meas_tomo"
   ]
  },
  {
   "cell_type": "code",
   "execution_count": 17,
   "metadata": {},
   "outputs": [
    {
     "data": {
      "image/png": "[encoded data removed]",
      "text/plain": [
       "<Figure size 750x450 with 2 Axes>"
      ]
     },
     "metadata": {},
     "output_type": "display_data"
    }
   ],
   "source": [
    "plt.style.use('style_v1.mplstyle')\n",
    "names = ['Full state tomography', 'Classical shadows']\n",
    "shape = ['o', 's']\n",
    "colors = ['k', 'r']\n",
    "x = np.linspace(1, 12)\n",
    "for i in range(2):#in zip(all_[:2], names):\n",
    "    if names[i]=='Classical shadows':\n",
    "        fit = np.polyfit(list(all_[i].keys()), list(all_[i].values()), 2)\n",
    "        vals = np.polyval(fit, x)\n",
    "        label = r'fit: $y=ax^2+bx+c$'\n",
    "    else:\n",
    "        fit = np.polyfit(list(all_[i].keys()), np.log(list(all_[i].values())), 1)\n",
    "        vals = np.polyval(fit, x)\n",
    "        vals = np.exp(vals)\n",
    "        label = r'fit: $y=\\exp(ax+b)$'\n",
    "        \n",
    "    plt.plot(x, vals, '--', color=colors[i], label=label, alpha=0.7)\n",
    "    plt.scatter(0, 0, c='k', label=names[i], marker=shape[i])\n",
    "    plt.scatter(all_[i].keys(), all_[i].values(), c=np.abs(np.array(list(all_[i+4].values()))-1), marker=shape[i])#, label=names[i])\n",
    "\n",
    "\n",
    "plt.xlabel('Number of qubits')\n",
    "plt.ylabel('Time [s]')\n",
    "plt.grid()\n",
    "plt.xlim(1.5, 11.5)\n",
    "plt.ylim(-5, 95)\n",
    "plt.colorbar(label='Error with respect to fidelity')\n",
    "plt.legend()\n",
    "plt.title(r'Time of execution with $n_{\\text{shots}}=5000$ and $N=5000$')\n",
    "plt.tight_layout()\n",
    "plt.savefig('plots/exec_time.pdf')"
   ]
  }
 ],
 "metadata": {
  "kernelspec": {
   "display_name": "quantum",
   "language": "python",
   "name": "python3"
  },
  "language_info": {
   "codemirror_mode": {
    "name": "ipython",
    "version": 3
   },
   "file_extension": ".py",
   "mimetype": "text/x-python",
   "name": "python",
   "nbconvert_exporter": "python",
   "pygments_lexer": "ipython3",
   "version": "3.12.6"
  }
 },
 "nbformat": 4,
 "nbformat_minor": 2
}
